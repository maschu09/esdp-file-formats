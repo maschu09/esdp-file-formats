{
 "cells": [
  {
   "cell_type": "markdown",
   "id": "7fd5d2c8-b361-479d-a70a-6a9cb7d42a55",
   "metadata": {},
   "source": [
    "# NetCDF\n",
    "\n",
    "Explore usage of netcdf files with xarray.\n",
    "\n",
    "We are going to look at some exemplary output from CMIP6. See https://pcmdi.llnl.gov/CMIP6/Guide/dataUsers.html#3-accessing-model-output for guidance where to find and how to access CMIP6 data. Go to the [DKRZ node](https://esgf-data.dkrz.de/search/cmip6-dkrz/) to search for specific datasets.\n",
    "\n",
    "For testing, we would like to analyze data from the NCAR CESM model as follows:\n",
    "* MIP Era: CMIP6\n",
    "* Activity: CMIP\n",
    "* Institution ID: NCAR\n",
    "* Nominal resolution: 100 km\n",
    "* CF_standard_name: air_temperature, specific_humidity\n",
    "All other fields are left blank.\n",
    "\n",
    "This gives a rather extensive list...  More or less arbitrarily, I clicked on \"Thredds catalogue\" for one of the entries and get a link to the file [ta_day_CESM2_amip_r2i1p1f1_gn_20100101-20150101.nc](http://esgf-data.ucar.edu/thredds/catalog/esgcet/913/CMIP6.CMIP.NCAR.CESM2.amip.r2i1p1f1.day.ta.gn.v20190220.html?dataset=CMIP6.CMIP.NCAR.CESM2.amip.r2i1p1f1.day.ta.gn.v20190220.ta_day_CESM2_amip_r2i1p1f1_gn_20100101-20150101.nc). Couldn't figure out how to download via this link. Clicked on \"wget script\" and copied url from there."
   ]
  },
  {
   "cell_type": "code",
   "execution_count": null,
   "id": "504158bf-86bd-48e5-af25-58c8e0d4a07a",
   "metadata": {},
   "outputs": [],
   "source": [
    "from os import access, R_OK\n",
    "from os.path import isfile\n",
    "import requests as r\n",
    "import xarray as xr\n",
    "from pprint import pprint"
   ]
  },
  {
   "cell_type": "code",
   "execution_count": null,
   "id": "623e9d99-c42c-41a0-b775-4778b24fc796",
   "metadata": {},
   "outputs": [],
   "source": [
    "# broken: url = \"http://esgf-data.ucar.edu/thredds/catalog/esgcet/913/CMIP6.CMIP.NCAR.CESM2.amip.r2i1p1f1.day.ta.gn.v20190220.html?dataset=CMIP6.CMIP.NCAR.CESM2.amip.r2i1p1f1.day.ta.gn.v20190220.ta_day_CESM2_amip_r2i1p1f1_gn_20100101-20150101.nc\"\n",
    "url = \"http://esgf-data.ucar.edu/thredds/fileServer/esg_dataroot/CMIP6/CMIP/NCAR/CESM2/amip/r2i1p1f1/day/ta/gn/v20190220/ta_day_CESM2_amip_r2i1p1f1_gn_20100101-20150101.nc\"\n",
    "\n",
    "# wget fails: !wget url\n",
    "# open the dataset directly from the web\n",
    "# direct open with xarray also fails: ds = xr.load_dataset(url)\n",
    "\n",
    "# downloading via requests seems to work (takes quite a while, though)\n",
    "filename = \"/data/mschul98/esdp1/\" + url.rsplit('/', 1)[1]\n",
    "\n",
    "# check if file exists. If not, download it from the ESGF server\n",
    "if isfile(filename) and access(filename, R_OK):\n",
    "    print(f\"File {filename} already available.\")\n",
    "else:\n",
    "    response = r.get(url)\n",
    "    with open(filename, \"wb\") as f:\n",
    "        f.write(response.content)\n",
    "        print(f\"Downloaded file written to {filename}.\")"
   ]
  },
  {
   "cell_type": "code",
   "execution_count": null,
   "id": "78d221e6-f3b3-4ad5-9868-b608ac145633",
   "metadata": {},
   "outputs": [],
   "source": [
    "# now open the dataset in xarray and print a summary\n",
    "with xr.open_dataset(filename) as ds:\n",
    "    print(ds)"
   ]
  },
  {
   "cell_type": "code",
   "execution_count": null,
   "id": "fc07e317-94d3-4668-8655-e6c11cb89e99",
   "metadata": {},
   "outputs": [],
   "source": [
    "# pretty print the global attributes\n",
    "pprint(ds.attrs)"
   ]
  },
  {
   "cell_type": "code",
   "execution_count": null,
   "id": "2c34389d-2184-4866-b019-04eaaa4f3dd2",
   "metadata": {},
   "outputs": [],
   "source": [
    "# pretty print the variable attributes\n",
    "pprint(ds[\"ta\"].attrs)"
   ]
  },
  {
   "cell_type": "code",
   "execution_count": null,
   "id": "c3262aea-c36c-4865-9a8a-538a9b095024",
   "metadata": {},
   "outputs": [],
   "source": [
    "# cut out continental US (Note: use http://bboxfinder.com tool)\n",
    "bbox = [-130.429688,23.563987,-60.292969,50.958427]\n",
    "bbox = [x+360. if x < 0. else x for x in bbox]\n",
    "ds_us = ds.sel({'lon':slice(bbox[0],bbox[2]), 'lat':slice(bbox[1],bbox[3])})\n",
    "print(ds_us)\n",
    "# print lon and lat values\n",
    "print(f\"longitudes: {ds_us['lon']}\\n latitudes: {ds_us['lat']}\")"
   ]
  },
  {
   "cell_type": "code",
   "execution_count": null,
   "id": "63e95482-bfb2-42ed-9db0-cb76a6b0b65b",
   "metadata": {},
   "outputs": [],
   "source": [
    "# save the result as a new netcdf file\n",
    "outfile = \"/data/mschul98/esdp1/CESM_ta_us-only.nc\"\n",
    "ds_us.to_netcdf(outfile, \"w\", format='NETCDF4', engine='h5netcdf')  # format and engine are optional\n",
    "!ls -l {outfile}"
   ]
  },
  {
   "cell_type": "code",
   "execution_count": null,
   "id": "462e382e-56c4-4bd6-a3e4-bf454e78a00d",
   "metadata": {},
   "outputs": [],
   "source": []
  }
 ],
 "metadata": {
  "kernelspec": {
   "display_name": "python-311-esdp",
   "language": "python",
   "name": "python-311-esdp"
  },
  "language_info": {
   "codemirror_mode": {
    "name": "ipython",
    "version": 3
   },
   "file_extension": ".py",
   "mimetype": "text/x-python",
   "name": "python",
   "nbconvert_exporter": "python",
   "pygments_lexer": "ipython3",
   "version": "3.11.9"
  }
 },
 "nbformat": 4,
 "nbformat_minor": 5
}
