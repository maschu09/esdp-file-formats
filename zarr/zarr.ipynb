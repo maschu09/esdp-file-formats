{
 "cells": [
  {
   "cell_type": "markdown",
   "id": "c0a2aae0-eacf-47de-94d2-55aaa03997ae",
   "metadata": {},
   "source": [
    "### Zarr Examples"
   ]
  },
  {
   "cell_type": "code",
   "execution_count": 2,
   "id": "9e642d39-9837-4087-a7a5-2254e9a18899",
   "metadata": {},
   "outputs": [],
   "source": [
    "import zarr\n",
    "import numpy as np"
   ]
  },
  {
   "cell_type": "markdown",
   "id": "fcca2e87-b3e0-41f7-a282-533300377b95",
   "metadata": {},
   "source": [
    "#### Example 1\n",
    "There are different functions for creating arrays through Zarr. Below, we are creating in memory a float array with 10^8 elements in 1000 chunks of size 1000 x 10000."
   ]
  },
  {
   "cell_type": "code",
   "execution_count": 3,
   "id": "36678fd1-0c00-4405-b8cb-1fa6dd99f165",
   "metadata": {},
   "outputs": [
    {
     "data": {
      "text/plain": [
       "<zarr.core.Array (100000, 100000) float32>"
      ]
     },
     "execution_count": 3,
     "metadata": {},
     "output_type": "execute_result"
    }
   ],
   "source": [
    "z = zarr.zeros((100_000, 100_000), chunks=(1_000, 10_000), dtype='f4')\n",
    "z"
   ]
  },
  {
   "cell_type": "markdown",
   "id": "9075f775-9eba-4400-9e0f-855626ff8784",
   "metadata": {},
   "source": [
    "With the code snippet below, we can obtain information about the array. Note the „lazy execution“: data will only be physically stored when needed. Initially, there are only 350B stored."
   ]
  },
  {
   "cell_type": "code",
   "execution_count": 3,
   "id": "f575143b-f46c-4983-958a-6d18a9af8fbd",
   "metadata": {},
   "outputs": [
    {
     "data": {
      "text/html": [
       "<table class=\"zarr-info\"><tbody><tr><th style=\"text-align: left\">Type</th><td style=\"text-align: left\">zarr.core.Array</td></tr><tr><th style=\"text-align: left\">Data type</th><td style=\"text-align: left\">float32</td></tr><tr><th style=\"text-align: left\">Shape</th><td style=\"text-align: left\">(100000, 100000)</td></tr><tr><th style=\"text-align: left\">Chunk shape</th><td style=\"text-align: left\">(1000, 10000)</td></tr><tr><th style=\"text-align: left\">Order</th><td style=\"text-align: left\">C</td></tr><tr><th style=\"text-align: left\">Read-only</th><td style=\"text-align: left\">False</td></tr><tr><th style=\"text-align: left\">Compressor</th><td style=\"text-align: left\">Blosc(cname='lz4', clevel=5, shuffle=SHUFFLE, blocksize=0)</td></tr><tr><th style=\"text-align: left\">Store type</th><td style=\"text-align: left\">zarr.storage.KVStore</td></tr><tr><th style=\"text-align: left\">No. bytes</th><td style=\"text-align: left\">40000000000 (37.3G)</td></tr><tr><th style=\"text-align: left\">No. bytes stored</th><td style=\"text-align: left\">350</td></tr><tr><th style=\"text-align: left\">Storage ratio</th><td style=\"text-align: left\">114285714.3</td></tr><tr><th style=\"text-align: left\">Chunks initialized</th><td style=\"text-align: left\">0/1000</td></tr></tbody></table>"
      ],
      "text/plain": [
       "Type               : zarr.core.Array\n",
       "Data type          : float32\n",
       "Shape              : (100000, 100000)\n",
       "Chunk shape        : (1000, 10000)\n",
       "Order              : C\n",
       "Read-only          : False\n",
       "Compressor         : Blosc(cname='lz4', clevel=5, shuffle=SHUFFLE, blocksize=0)\n",
       "Store type         : zarr.storage.KVStore\n",
       "No. bytes          : 40000000000 (37.3G)\n",
       "No. bytes stored   : 350\n",
       "Storage ratio      : 114285714.3\n",
       "Chunks initialized : 0/1000"
      ]
     },
     "execution_count": 3,
     "metadata": {},
     "output_type": "execute_result"
    }
   ],
   "source": [
    "z.info"
   ]
  },
  {
   "cell_type": "markdown",
   "id": "08b6ba36-1dde-4cb3-a6c9-35d90cf6ae69",
   "metadata": {},
   "source": [
    "The no. bytes stored increases to 160.9 KB."
   ]
  },
  {
   "cell_type": "code",
   "execution_count": 22,
   "id": "b6c9efe1-ff4d-4a85-bb78-3cfffb346066",
   "metadata": {},
   "outputs": [
    {
     "data": {
      "text/html": [
       "<table class=\"zarr-info\"><tbody><tr><th style=\"text-align: left\">Type</th><td style=\"text-align: left\">zarr.core.Array</td></tr><tr><th style=\"text-align: left\">Data type</th><td style=\"text-align: left\">float32</td></tr><tr><th style=\"text-align: left\">Shape</th><td style=\"text-align: left\">(100000, 100000)</td></tr><tr><th style=\"text-align: left\">Chunk shape</th><td style=\"text-align: left\">(1000, 10000)</td></tr><tr><th style=\"text-align: left\">Order</th><td style=\"text-align: left\">C</td></tr><tr><th style=\"text-align: left\">Read-only</th><td style=\"text-align: left\">False</td></tr><tr><th style=\"text-align: left\">Compressor</th><td style=\"text-align: left\">Blosc(cname='lz4', clevel=5, shuffle=SHUFFLE, blocksize=0)</td></tr><tr><th style=\"text-align: left\">Store type</th><td style=\"text-align: left\">zarr.storage.KVStore</td></tr><tr><th style=\"text-align: left\">No. bytes</th><td style=\"text-align: left\">40000000000 (37.3G)</td></tr><tr><th style=\"text-align: left\">No. bytes stored</th><td style=\"text-align: left\">164733 (160.9K)</td></tr><tr><th style=\"text-align: left\">Storage ratio</th><td style=\"text-align: left\">242817.2</td></tr><tr><th style=\"text-align: left\">Chunks initialized</th><td style=\"text-align: left\">1/1000</td></tr></tbody></table>"
      ],
      "text/plain": [
       "Type               : zarr.core.Array\n",
       "Data type          : float32\n",
       "Shape              : (100000, 100000)\n",
       "Chunk shape        : (1000, 10000)\n",
       "Order              : C\n",
       "Read-only          : False\n",
       "Compressor         : Blosc(cname='lz4', clevel=5, shuffle=SHUFFLE, blocksize=0)\n",
       "Store type         : zarr.storage.KVStore\n",
       "No. bytes          : 40000000000 (37.3G)\n",
       "No. bytes stored   : 164733 (160.9K)\n",
       "Storage ratio      : 242817.2\n",
       "Chunks initialized : 1/1000"
      ]
     },
     "execution_count": 22,
     "metadata": {},
     "output_type": "execute_result"
    }
   ],
   "source": [
    "# populate some parts of the z array\n",
    "z[20_100:20_900, 0] = 3.14159\n",
    "z.info"
   ]
  },
  {
   "cell_type": "markdown",
   "id": "25f658b2-e47b-423b-b7a6-369801093801",
   "metadata": {},
   "source": [
    "#### Example 2: Persistent array\n",
    "Initializing Zarr array by storing it on the file system. Again in this case, no disk space is consumed."
   ]
  },
  {
   "cell_type": "code",
   "execution_count": 5,
   "id": "cd6068de-8dfd-4aff-8fed-dbab1d1db3f5",
   "metadata": {},
   "outputs": [
    {
     "data": {
      "text/html": [
       "<table class=\"zarr-info\"><tbody><tr><th style=\"text-align: left\">Type</th><td style=\"text-align: left\">zarr.core.Array</td></tr><tr><th style=\"text-align: left\">Data type</th><td style=\"text-align: left\">float32</td></tr><tr><th style=\"text-align: left\">Shape</th><td style=\"text-align: left\">(100000, 100000)</td></tr><tr><th style=\"text-align: left\">Chunk shape</th><td style=\"text-align: left\">(1000, 10000)</td></tr><tr><th style=\"text-align: left\">Order</th><td style=\"text-align: left\">C</td></tr><tr><th style=\"text-align: left\">Read-only</th><td style=\"text-align: left\">False</td></tr><tr><th style=\"text-align: left\">Compressor</th><td style=\"text-align: left\">Blosc(cname='lz4', clevel=5, shuffle=SHUFFLE, blocksize=0)</td></tr><tr><th style=\"text-align: left\">Store type</th><td style=\"text-align: left\">zarr.storage.DirectoryStore</td></tr><tr><th style=\"text-align: left\">No. bytes</th><td style=\"text-align: left\">40000000000 (37.3G)</td></tr><tr><th style=\"text-align: left\">No. bytes stored</th><td style=\"text-align: left\">350</td></tr><tr><th style=\"text-align: left\">Storage ratio</th><td style=\"text-align: left\">114285714.3</td></tr><tr><th style=\"text-align: left\">Chunks initialized</th><td style=\"text-align: left\">0/1000</td></tr></tbody></table>"
      ],
      "text/plain": [
       "Type               : zarr.core.Array\n",
       "Data type          : float32\n",
       "Shape              : (100000, 100000)\n",
       "Chunk shape        : (1000, 10000)\n",
       "Order              : C\n",
       "Read-only          : False\n",
       "Compressor         : Blosc(cname='lz4', clevel=5, shuffle=SHUFFLE, blocksize=0)\n",
       "Store type         : zarr.storage.DirectoryStore\n",
       "No. bytes          : 40000000000 (37.3G)\n",
       "No. bytes stored   : 350\n",
       "Storage ratio      : 114285714.3\n",
       "Chunks initialized : 0/1000"
      ]
     },
     "execution_count": 5,
     "metadata": {},
     "output_type": "execute_result"
    }
   ],
   "source": [
    "zfile = zarr.open('example_1.zarr', shape=(100_000, 100_000), chunks=(1_000, 10_000), dtype='f4', mode='w')\n",
    "zfile.info"
   ]
  },
  {
   "cell_type": "markdown",
   "id": "f72fc5c7-17a2-4194-a1ff-f493c96b97aa",
   "metadata": {},
   "source": [
    "#### Example 3: Bad Zarr example: be aware of chunk size!\n",
    "Running the following code snippet takes forever."
   ]
  },
  {
   "cell_type": "code",
   "execution_count": null,
   "id": "53ee04d7-e9ce-462b-83a0-69268348fc62",
   "metadata": {},
   "outputs": [],
   "source": [
    "%%time\n",
    "tmp = np.arange(0, 1e5)\n",
    "for i in range(11_000, 21_000):\n",
    "    zfile[i, :] = tmp + i\n",
    "zfile.info"
   ]
  },
  {
   "cell_type": "markdown",
   "id": "a92e5dec-bfec-4cf4-8e76-fb871123893c",
   "metadata": {},
   "source": [
    "Writing data to a Zarr file line-by-line is not an efficient approach. To optimize the performance of writing data to a Zarr file, we should leverage the chunking capabilities provided by the Zarr library. Writing data chunk-by-chunk, can significantly improve the efficiency of the data writing process. Below we optimize code by writing 10 chunks altogether, after having prepared the NumPy array with all the data that we need to dump to the Zarr file. By writing the data in larger chunks, the library can better utilize its internal compression algorithms and reduce the overall overhead of the writing process."
   ]
  },
  {
   "cell_type": "code",
   "execution_count": 6,
   "id": "694d1f66-5512-4492-a60f-97e8a091e05f",
   "metadata": {},
   "outputs": [
    {
     "data": {
      "text/html": [
       "<table class=\"zarr-info\"><tbody><tr><th style=\"text-align: left\">Type</th><td style=\"text-align: left\">zarr.core.Array</td></tr><tr><th style=\"text-align: left\">Data type</th><td style=\"text-align: left\">float32</td></tr><tr><th style=\"text-align: left\">Shape</th><td style=\"text-align: left\">(100000, 100000)</td></tr><tr><th style=\"text-align: left\">Chunk shape</th><td style=\"text-align: left\">(1000, 10000)</td></tr><tr><th style=\"text-align: left\">Order</th><td style=\"text-align: left\">C</td></tr><tr><th style=\"text-align: left\">Read-only</th><td style=\"text-align: left\">False</td></tr><tr><th style=\"text-align: left\">Compressor</th><td style=\"text-align: left\">Blosc(cname='lz4', clevel=5, shuffle=SHUFFLE, blocksize=0)</td></tr><tr><th style=\"text-align: left\">Store type</th><td style=\"text-align: left\">zarr.storage.DirectoryStore</td></tr><tr><th style=\"text-align: left\">No. bytes</th><td style=\"text-align: left\">40000000000 (37.3G)</td></tr><tr><th style=\"text-align: left\">No. bytes stored</th><td style=\"text-align: left\">27023364 (25.8M)</td></tr><tr><th style=\"text-align: left\">Storage ratio</th><td style=\"text-align: left\">1480.2</td></tr><tr><th style=\"text-align: left\">Chunks initialized</th><td style=\"text-align: left\">100/1000</td></tr></tbody></table>"
      ],
      "text/plain": [
       "Type               : zarr.core.Array\n",
       "Data type          : float32\n",
       "Shape              : (100000, 100000)\n",
       "Chunk shape        : (1000, 10000)\n",
       "Order              : C\n",
       "Read-only          : False\n",
       "Compressor         : Blosc(cname='lz4', clevel=5, shuffle=SHUFFLE, blocksize=0)\n",
       "Store type         : zarr.storage.DirectoryStore\n",
       "No. bytes          : 40000000000 (37.3G)\n",
       "No. bytes stored   : 27023364 (25.8M)\n",
       "Storage ratio      : 1480.2\n",
       "Chunks initialized : 100/1000"
      ]
     },
     "execution_count": 6,
     "metadata": {},
     "output_type": "execute_result"
    }
   ],
   "source": [
    "zfile = zarr.open('example_2.zarr', shape=(100_000, 100_000), chunks=(1_000, 10_000), dtype='f4', mode='w')\n",
    "data = np.zeros((10_000, 100_000), dtype='f4')\n",
    "for i in range(10_000):\n",
    "    data[i, :] = np.arange(0, 100_000) + 11_000 + i\n",
    "    \n",
    "zfile[11_000:21_000, :] = data\n",
    "zfile.info "
   ]
  }
 ],
 "metadata": {
  "kernelspec": {
   "display_name": "Python 3 (ipykernel)",
   "language": "python",
   "name": "python3"
  },
  "language_info": {
   "codemirror_mode": {
    "name": "ipython",
    "version": 3
   },
   "file_extension": ".py",
   "mimetype": "text/x-python",
   "name": "python",
   "nbconvert_exporter": "python",
   "pygments_lexer": "ipython3",
   "version": "3.11.6"
  }
 },
 "nbformat": 4,
 "nbformat_minor": 5
}
