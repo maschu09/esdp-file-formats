{
 "cells": [
  {
   "cell_type": "markdown",
   "id": "89df6ebf-9b3a-4fde-86da-e510a6822b23",
   "metadata": {},
   "source": [
    "# JSON examples"
   ]
  },
  {
   "cell_type": "code",
   "execution_count": 48,
   "id": "ef23d72a-fe2c-4d25-a24a-e4ddf5cb72de",
   "metadata": {},
   "outputs": [],
   "source": [
    "import json\n",
    "import math"
   ]
  },
  {
   "cell_type": "code",
   "execution_count": 55,
   "id": "502043f9-bccb-495a-971a-654eb519a0b2",
   "metadata": {},
   "outputs": [],
   "source": [
    "data = [{'a':22, 'b':345, 'c':'comment'},\n",
    "        {'a':5.1e8, 'b':0, 'c':'another comment'}]\n",
    "filename = 'test.json'\n",
    "with open(filename, \"w\") as f:\n",
    "    json.dump(data, f)\n"
   ]
  },
  {
   "cell_type": "code",
   "execution_count": 56,
   "id": "f4ab3ce6-5792-4548-9195-f5052a713c36",
   "metadata": {},
   "outputs": [
    {
     "name": "stdout",
     "output_type": "stream",
     "text": [
      "[{'a': 22, 'b': 345, 'c': 'comment'}, {'a': 510000000.0, 'b': 0, 'c': 'another comment'}]\n"
     ]
    }
   ],
   "source": [
    "with open(filename, \"r\") as f:\n",
    "    content = json.load(f)\n",
    "print(content)"
   ]
  },
  {
   "cell_type": "code",
   "execution_count": 57,
   "id": "a6eb067d-c4cb-4275-89fa-01624ed199fe",
   "metadata": {},
   "outputs": [],
   "source": [
    "# Test missing values and null values (None)\n",
    "data2 ={'a':math.nan, 'b':None}"
   ]
  },
  {
   "cell_type": "code",
   "execution_count": 58,
   "id": "ef93f087-66ca-40d2-8929-7fe725621993",
   "metadata": {},
   "outputs": [
    {
     "name": "stdout",
     "output_type": "stream",
     "text": [
      "{\n",
      "  \"a\": NaN,\n",
      "  \"b\": null\n",
      "}\n"
     ]
    }
   ],
   "source": [
    "print(json.dumps(data2, indent=2, allow_nan=True))"
   ]
  },
  {
   "cell_type": "code",
   "execution_count": 59,
   "id": "866bc80a-3ec8-4a89-891f-8ccbed04dafd",
   "metadata": {},
   "outputs": [
    {
     "ename": "ValueError",
     "evalue": "Out of range float values are not JSON compliant: nan",
     "output_type": "error",
     "traceback": [
      "\u001b[0;31m---------------------------------------------------------------------------\u001b[0m",
      "\u001b[0;31mValueError\u001b[0m                                Traceback (most recent call last)",
      "Cell \u001b[0;32mIn[59], line 1\u001b[0m\n\u001b[0;32m----> 1\u001b[0m \u001b[38;5;28mprint\u001b[39m(\u001b[43mjson\u001b[49m\u001b[38;5;241;43m.\u001b[39;49m\u001b[43mdumps\u001b[49m\u001b[43m(\u001b[49m\u001b[43mdata2\u001b[49m\u001b[43m,\u001b[49m\u001b[43m \u001b[49m\u001b[43mindent\u001b[49m\u001b[38;5;241;43m=\u001b[39;49m\u001b[38;5;241;43m2\u001b[39;49m\u001b[43m,\u001b[49m\u001b[43m \u001b[49m\u001b[43mallow_nan\u001b[49m\u001b[38;5;241;43m=\u001b[39;49m\u001b[38;5;28;43;01mFalse\u001b[39;49;00m\u001b[43m)\u001b[49m)\n",
      "File \u001b[0;32m/opt/tljh/user/envs/py311_esdp_v2/lib/python3.11/json/__init__.py:238\u001b[0m, in \u001b[0;36mdumps\u001b[0;34m(obj, skipkeys, ensure_ascii, check_circular, allow_nan, cls, indent, separators, default, sort_keys, **kw)\u001b[0m\n\u001b[1;32m    232\u001b[0m \u001b[38;5;28;01mif\u001b[39;00m \u001b[38;5;28mcls\u001b[39m \u001b[38;5;129;01mis\u001b[39;00m \u001b[38;5;28;01mNone\u001b[39;00m:\n\u001b[1;32m    233\u001b[0m     \u001b[38;5;28mcls\u001b[39m \u001b[38;5;241m=\u001b[39m JSONEncoder\n\u001b[1;32m    234\u001b[0m \u001b[38;5;28;01mreturn\u001b[39;00m \u001b[38;5;28;43mcls\u001b[39;49m\u001b[43m(\u001b[49m\n\u001b[1;32m    235\u001b[0m \u001b[43m    \u001b[49m\u001b[43mskipkeys\u001b[49m\u001b[38;5;241;43m=\u001b[39;49m\u001b[43mskipkeys\u001b[49m\u001b[43m,\u001b[49m\u001b[43m \u001b[49m\u001b[43mensure_ascii\u001b[49m\u001b[38;5;241;43m=\u001b[39;49m\u001b[43mensure_ascii\u001b[49m\u001b[43m,\u001b[49m\n\u001b[1;32m    236\u001b[0m \u001b[43m    \u001b[49m\u001b[43mcheck_circular\u001b[49m\u001b[38;5;241;43m=\u001b[39;49m\u001b[43mcheck_circular\u001b[49m\u001b[43m,\u001b[49m\u001b[43m \u001b[49m\u001b[43mallow_nan\u001b[49m\u001b[38;5;241;43m=\u001b[39;49m\u001b[43mallow_nan\u001b[49m\u001b[43m,\u001b[49m\u001b[43m \u001b[49m\u001b[43mindent\u001b[49m\u001b[38;5;241;43m=\u001b[39;49m\u001b[43mindent\u001b[49m\u001b[43m,\u001b[49m\n\u001b[1;32m    237\u001b[0m \u001b[43m    \u001b[49m\u001b[43mseparators\u001b[49m\u001b[38;5;241;43m=\u001b[39;49m\u001b[43mseparators\u001b[49m\u001b[43m,\u001b[49m\u001b[43m \u001b[49m\u001b[43mdefault\u001b[49m\u001b[38;5;241;43m=\u001b[39;49m\u001b[43mdefault\u001b[49m\u001b[43m,\u001b[49m\u001b[43m \u001b[49m\u001b[43msort_keys\u001b[49m\u001b[38;5;241;43m=\u001b[39;49m\u001b[43msort_keys\u001b[49m\u001b[43m,\u001b[49m\n\u001b[0;32m--> 238\u001b[0m \u001b[43m    \u001b[49m\u001b[38;5;241;43m*\u001b[39;49m\u001b[38;5;241;43m*\u001b[39;49m\u001b[43mkw\u001b[49m\u001b[43m)\u001b[49m\u001b[38;5;241;43m.\u001b[39;49m\u001b[43mencode\u001b[49m\u001b[43m(\u001b[49m\u001b[43mobj\u001b[49m\u001b[43m)\u001b[49m\n",
      "File \u001b[0;32m/opt/tljh/user/envs/py311_esdp_v2/lib/python3.11/json/encoder.py:202\u001b[0m, in \u001b[0;36mJSONEncoder.encode\u001b[0;34m(self, o)\u001b[0m\n\u001b[1;32m    200\u001b[0m chunks \u001b[38;5;241m=\u001b[39m \u001b[38;5;28mself\u001b[39m\u001b[38;5;241m.\u001b[39miterencode(o, _one_shot\u001b[38;5;241m=\u001b[39m\u001b[38;5;28;01mTrue\u001b[39;00m)\n\u001b[1;32m    201\u001b[0m \u001b[38;5;28;01mif\u001b[39;00m \u001b[38;5;129;01mnot\u001b[39;00m \u001b[38;5;28misinstance\u001b[39m(chunks, (\u001b[38;5;28mlist\u001b[39m, \u001b[38;5;28mtuple\u001b[39m)):\n\u001b[0;32m--> 202\u001b[0m     chunks \u001b[38;5;241m=\u001b[39m \u001b[38;5;28mlist\u001b[39m(chunks)\n\u001b[1;32m    203\u001b[0m \u001b[38;5;28;01mreturn\u001b[39;00m \u001b[38;5;124m'\u001b[39m\u001b[38;5;124m'\u001b[39m\u001b[38;5;241m.\u001b[39mjoin(chunks)\n",
      "File \u001b[0;32m/opt/tljh/user/envs/py311_esdp_v2/lib/python3.11/json/encoder.py:432\u001b[0m, in \u001b[0;36m_make_iterencode.<locals>._iterencode\u001b[0;34m(o, _current_indent_level)\u001b[0m\n\u001b[1;32m    430\u001b[0m     \u001b[38;5;28;01myield from\u001b[39;00m _iterencode_list(o, _current_indent_level)\n\u001b[1;32m    431\u001b[0m \u001b[38;5;28;01melif\u001b[39;00m \u001b[38;5;28misinstance\u001b[39m(o, \u001b[38;5;28mdict\u001b[39m):\n\u001b[0;32m--> 432\u001b[0m     \u001b[38;5;28;01myield from\u001b[39;00m _iterencode_dict(o, _current_indent_level)\n\u001b[1;32m    433\u001b[0m \u001b[38;5;28;01melse\u001b[39;00m:\n\u001b[1;32m    434\u001b[0m     \u001b[38;5;28;01mif\u001b[39;00m markers \u001b[38;5;129;01mis\u001b[39;00m \u001b[38;5;129;01mnot\u001b[39;00m \u001b[38;5;28;01mNone\u001b[39;00m:\n",
      "File \u001b[0;32m/opt/tljh/user/envs/py311_esdp_v2/lib/python3.11/json/encoder.py:398\u001b[0m, in \u001b[0;36m_make_iterencode.<locals>._iterencode_dict\u001b[0;34m(dct, _current_indent_level)\u001b[0m\n\u001b[1;32m    395\u001b[0m     \u001b[38;5;28;01myield\u001b[39;00m _intstr(value)\n\u001b[1;32m    396\u001b[0m \u001b[38;5;28;01melif\u001b[39;00m \u001b[38;5;28misinstance\u001b[39m(value, \u001b[38;5;28mfloat\u001b[39m):\n\u001b[1;32m    397\u001b[0m     \u001b[38;5;66;03m# see comment for int/float in _make_iterencode\u001b[39;00m\n\u001b[0;32m--> 398\u001b[0m     \u001b[38;5;28;01myield\u001b[39;00m \u001b[43m_floatstr\u001b[49m\u001b[43m(\u001b[49m\u001b[43mvalue\u001b[49m\u001b[43m)\u001b[49m\n\u001b[1;32m    399\u001b[0m \u001b[38;5;28;01melse\u001b[39;00m:\n\u001b[1;32m    400\u001b[0m     \u001b[38;5;28;01mif\u001b[39;00m \u001b[38;5;28misinstance\u001b[39m(value, (\u001b[38;5;28mlist\u001b[39m, \u001b[38;5;28mtuple\u001b[39m)):\n",
      "File \u001b[0;32m/opt/tljh/user/envs/py311_esdp_v2/lib/python3.11/json/encoder.py:240\u001b[0m, in \u001b[0;36mJSONEncoder.iterencode.<locals>.floatstr\u001b[0;34m(o, allow_nan, _repr, _inf, _neginf)\u001b[0m\n\u001b[1;32m    237\u001b[0m     \u001b[38;5;28;01mreturn\u001b[39;00m _repr(o)\n\u001b[1;32m    239\u001b[0m \u001b[38;5;28;01mif\u001b[39;00m \u001b[38;5;129;01mnot\u001b[39;00m allow_nan:\n\u001b[0;32m--> 240\u001b[0m     \u001b[38;5;28;01mraise\u001b[39;00m \u001b[38;5;167;01mValueError\u001b[39;00m(\n\u001b[1;32m    241\u001b[0m         \u001b[38;5;124m\"\u001b[39m\u001b[38;5;124mOut of range float values are not JSON compliant: \u001b[39m\u001b[38;5;124m\"\u001b[39m \u001b[38;5;241m+\u001b[39m\n\u001b[1;32m    242\u001b[0m         \u001b[38;5;28mrepr\u001b[39m(o))\n\u001b[1;32m    244\u001b[0m \u001b[38;5;28;01mreturn\u001b[39;00m text\n",
      "\u001b[0;31mValueError\u001b[0m: Out of range float values are not JSON compliant: nan"
     ]
    }
   ],
   "source": [
    "print(json.dumps(data2, indent=2, allow_nan=False))"
   ]
  },
  {
   "cell_type": "code",
   "execution_count": 60,
   "id": "5d67ebfd-575f-46b1-8937-4f2176173baf",
   "metadata": {},
   "outputs": [
    {
     "name": "stdout",
     "output_type": "stream",
     "text": [
      "[{'a': 22, 'b': 345, 'c': 'comment'}, {'a': 510000000.0, 'b': 0, 'c': 'another comment'}, {'a': nan, 'b': None}]\n",
      "[\n",
      "  {\n",
      "    \"a\": 22,\n",
      "    \"b\": 345,\n",
      "    \"c\": \"comment\"\n",
      "  },\n",
      "  {\n",
      "    \"a\": 510000000.0,\n",
      "    \"b\": 0,\n",
      "    \"c\": \"another comment\"\n",
      "  },\n",
      "  {\n",
      "    \"a\": -9999.0,\n",
      "    \"b\": null\n",
      "  }\n",
      "]\n"
     ]
    }
   ],
   "source": [
    "# Build a larger dataset and write custom encoder to handle NaN values\n",
    "data.append(data2)\n",
    "print(data)\n",
    "\n",
    "def nan2Value(obj):\n",
    "    if isinstance(obj, dict):\n",
    "        return {k:nan2Value(v) for k,v in obj.items()}\n",
    "    elif isinstance(obj, list):\n",
    "        return [nan2Value(v) for v in obj]\n",
    "    elif isinstance(obj, float) and math.isnan(obj):\n",
    "        return -9999.\n",
    "    return obj\n",
    "\n",
    "class CustomEncoder(json.JSONEncoder):\n",
    "    # Note: documentation says we can overwrite the default method. However,\n",
    "    # this is called only for data types not known to encode, and NaN is known.\n",
    "    def encode(self, obj, *args, **kwargs):\n",
    "        return super().encode(nan2Value(obj), *args, **kwargs)\n",
    "        \n",
    "print(json.dumps(data, indent=2, allow_nan=False, cls=CustomEncoder))\n"
   ]
  },
  {
   "cell_type": "code",
   "execution_count": null,
   "id": "5c542c03-4e06-4e3f-a4bd-877eb59b12ff",
   "metadata": {},
   "outputs": [],
   "source": []
  },
  {
   "cell_type": "code",
   "execution_count": null,
   "id": "0b3780bb-5a26-4463-906b-e2c85c5b98a0",
   "metadata": {},
   "outputs": [],
   "source": []
  },
  {
   "cell_type": "code",
   "execution_count": null,
   "id": "fca62e5c-43e3-45c7-afec-6580a9892253",
   "metadata": {},
   "outputs": [],
   "source": []
  }
 ],
 "metadata": {
  "kernelspec": {
   "display_name": "python-311-esdp",
   "language": "python",
   "name": "python-311-esdp"
  },
  "language_info": {
   "codemirror_mode": {
    "name": "ipython",
    "version": 3
   },
   "file_extension": ".py",
   "mimetype": "text/x-python",
   "name": "python",
   "nbconvert_exporter": "python",
   "pygments_lexer": "ipython3",
   "version": "3.11.9"
  }
 },
 "nbformat": 4,
 "nbformat_minor": 5
}
