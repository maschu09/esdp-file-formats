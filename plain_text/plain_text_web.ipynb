{
 "cells": [
  {
   "cell_type": "markdown",
   "id": "319a4f7f-02ab-45e7-98ba-9795458ab605",
   "metadata": {},
   "source": [
    "# Plain text format example: web scraping"
   ]
  },
  {
   "cell_type": "code",
   "execution_count": null,
   "id": "ad3c17e0-f07a-40f5-b390-a29f4f0dee0c",
   "metadata": {
    "tags": []
   },
   "outputs": [],
   "source": [
    "import requests"
   ]
  },
  {
   "cell_type": "code",
   "execution_count": null,
   "id": "13afc0e3-c656-44d0-81c7-fea1ac350baa",
   "metadata": {
    "tags": []
   },
   "outputs": [],
   "source": [
    "# read content of Wikipedia page on European windstorms and extract tabular content\n",
    "URL = \"https://en.wikipedia.org/wiki/List_of_European_windstorms\"\n",
    "\n",
    "try:\n",
    "    response = requests.get(URL)\n",
    "except requests.exceptions.RequestException as e:\n",
    "    print(\"An error occured: \", e)\n",
    "    raise requests.exceptions.RequestException(e)\n",
    "    \n",
    "data = response.content\n",
    "print(data[:1024], '...')"
   ]
  },
  {
   "cell_type": "code",
   "execution_count": null,
   "id": "aa6388e8-2e1c-470f-a709-feae23a23abd",
   "metadata": {
    "tags": []
   },
   "outputs": [],
   "source": [
    "# now let's try to locate the beginning of the table\n",
    "i = data.find(b\"<th>\") # (b\"Grote Mandrenke\")\n",
    "if i > 0:\n",
    "    print(f\"Table starts at position {i}:\\n{data[i:i+2048]}\")"
   ]
  },
  {
   "cell_type": "code",
   "execution_count": null,
   "id": "1924fd5b-0a15-4453-a29c-c18d324ee3b9",
   "metadata": {
    "tags": []
   },
   "outputs": [],
   "source": [
    "# It would be cumbersome to extract this information manually\n",
    "# Use beautifulsoup or pandas to digest the HTML table\n",
    "import pandas as pd\n",
    "\n",
    "dataframes = pd.read_html(URL)\n",
    "print(dataframes[1])  # one example"
   ]
  },
  {
   "cell_type": "code",
   "execution_count": null,
   "id": "4a33df86-cdb2-439d-b6b1-1ce8e6931eb0",
   "metadata": {
    "tags": []
   },
   "outputs": [],
   "source": [
    "# Exercise: concatenate all dataframes into one"
   ]
  },
  {
   "cell_type": "code",
   "execution_count": null,
   "id": "4d93c1e2-11d4-4522-bceb-337c38278817",
   "metadata": {},
   "outputs": [],
   "source": []
  }
 ],
 "metadata": {
  "kernelspec": {
   "display_name": "PyEarthSystem-2023.5",
   "language": "python",
   "name": "pyearthsystem"
  },
  "language_info": {
   "codemirror_mode": {
    "name": "ipython",
    "version": 3
   },
   "file_extension": ".py",
   "mimetype": "text/x-python",
   "name": "python",
   "nbconvert_exporter": "python",
   "pygments_lexer": "ipython3",
   "version": "3.10.4"
  }
 },
 "nbformat": 4,
 "nbformat_minor": 5
}
