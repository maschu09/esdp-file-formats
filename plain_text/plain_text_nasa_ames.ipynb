{
 "cells": [
  {
   "cell_type": "markdown",
   "id": "99accbf5-1147-4b4f-ad55-9e9c4e35be2b",
   "metadata": {},
   "source": [
    "# Plain text example: NASA AMES format\n",
    "\n",
    "Documentation: [https://espoarchive.nasa.gov/content/Ames_Format_Specification_v20](https://espoarchive.nasa.gov/content/Ames_Format_Specification_v20)"
   ]
  },
  {
   "cell_type": "code",
   "execution_count": null,
   "id": "8aaee65f-0120-49a7-aa6e-054a8831c387",
   "metadata": {},
   "outputs": [],
   "source": []
  }
 ],
 "metadata": {
  "kernelspec": {
   "display_name": "PyEarthSystem-2023.5",
   "language": "python",
   "name": "pyearthsystem"
  },
  "language_info": {
   "codemirror_mode": {
    "name": "ipython",
    "version": 3
   },
   "file_extension": ".py",
   "mimetype": "text/x-python",
   "name": "python",
   "nbconvert_exporter": "python",
   "pygments_lexer": "ipython3",
   "version": "3.10.4"
  }
 },
 "nbformat": 4,
 "nbformat_minor": 5
}
