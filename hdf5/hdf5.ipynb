{
 "cells": [
  {
   "cell_type": "markdown",
   "id": "fa85c9d7-f8af-4a60-bf7d-f511ad4ea375",
   "metadata": {},
   "source": [
    "# Working with HDF5 files\n",
    "\n",
    "After a long afternoon, I managed to extract some Advanced Microwave Sounding Unit (AMSU) data from EUMETSAT and saved them in the HDF5 format. For details about this and further information about the satellite and sensor, please see the notebook the-eumetsat-saga.ipynb.\n",
    "\n",
    "You can obtain the 3 example files from Sciebo: https://fz-juelich.sciebo.de/s/A6wUfYMJBn1EpvD . As I didn't find documentation about a sciebo API (although there is a pysciebo package), you will have to download the files manually."
   ]
  },
  {
   "cell_type": "code",
   "execution_count": null,
   "id": "2714b48a-b59a-4dc6-b5e5-24a2a46b3d56",
   "metadata": {},
   "outputs": [],
   "source": [
    "import os\n",
    "import xarray\n",
    "import cartopy.crs as ccrs\n",
    "import matplotlib.pyplot as plt"
   ]
  },
  {
   "cell_type": "code",
   "execution_count": null,
   "id": "65cca003-5e5b-446c-9e79-d51298066c77",
   "metadata": {},
   "outputs": [],
   "source": [
    "# make sure, the three files have been downloaded\n",
    "files = [\"AMSAL1_20240430T221919Z_20240501T000119Z_epct_25dad12a_F.h5\",\n",
    "         \"AMSAL1_20240501T000119Z_20240501T014319Z_epct_2db170ca_F.h5\",\n",
    "         \"AMSAL1_20240501T014319Z_20240501T032823Z_epct_e379cfef_F.h5\" ]\n",
    "for file in files:\n",
    "    if not(os.path.isfile(file) and os.access(file, os.R_OK)):\n",
    "        print(f\"File {file} is missing. Please download from https://fz-juelich.sciebo.de/s/A6wUfYMJBn1EpvD .\")"
   ]
  },
  {
   "cell_type": "code",
   "execution_count": null,
   "id": "70162d48-5a01-4dbb-9a1d-0885770c8148",
   "metadata": {},
   "outputs": [],
   "source": [
    "# open the files in xarray\n",
    "datasets = []\n",
    "for file in files:\n",
    "    ds = xarray.open_dataset(file)\n",
    "    print(ds)\n",
    "    datasets.append(ds)"
   ]
  },
  {
   "cell_type": "code",
   "execution_count": null,
   "id": "a541992b-b141-45c2-9d31-a80ac357373c",
   "metadata": {},
   "outputs": [],
   "source": [
    "print(datasets[0][\"lon\"].values)"
   ]
  },
  {
   "cell_type": "code",
   "execution_count": null,
   "id": "51154b6f-ca2f-4401-b5b4-a5ad57abe473",
   "metadata": {},
   "outputs": [],
   "source": [
    "print(datasets[0][\"lat\"].values)"
   ]
  },
  {
   "cell_type": "code",
   "execution_count": null,
   "id": "c9c98d78-be36-4b64-a595-b6f168227436",
   "metadata": {},
   "outputs": [],
   "source": [
    "# plot coordinates on a map as points\n",
    "fig = plt.figure(figsize=(10, 5))\n",
    "ax = plt.axes(projection=ccrs.PlateCarree())\n",
    "ax.coastlines()\n",
    "colors = ['r', 'g', 'b']\n",
    "colors = ['#91AEEC', '#4D81EF', '#0B55F1']\n",
    "for ds, c in zip(datasets, colors):\n",
    "    ax.plot(ds.lon, ds.lat, marker='o', color=c, markersize=1, linestyle='None')\n"
   ]
  },
  {
   "cell_type": "code",
   "execution_count": null,
   "id": "723fe8c3-3b2f-4958-90e3-e95d78ad1e86",
   "metadata": {},
   "outputs": [],
   "source": [
    "# try to concatenate the three datasets into one\n",
    "#ds_all = datasets[0].copy(deep=True)\n",
    "ds_all = xarray.concat(datasets, dim='x')"
   ]
  },
  {
   "cell_type": "code",
   "execution_count": null,
   "id": "5ec1edcb-7344-43d8-a364-c968afdc56f0",
   "metadata": {},
   "outputs": [],
   "source": [
    "print(ds_all)"
   ]
  },
  {
   "cell_type": "code",
   "execution_count": null,
   "id": "2bb0c331-3fe1-46b6-9d20-080f26119dc8",
   "metadata": {},
   "outputs": [],
   "source": [
    "fig = plt.figure(figsize=(10, 5))\n",
    "ax = plt.axes(projection=ccrs.PlateCarree())\n",
    "ax.coastlines()\n",
    "ax.scatter(ds_all.lon, ds_all.lat, marker='o', c=ds_all.channel_3, s=1., cmap='plasma')\n",
    "plt.show()"
   ]
  },
  {
   "cell_type": "code",
   "execution_count": null,
   "id": "40ec5dd1-890c-404e-a88f-50f236a2e504",
   "metadata": {},
   "outputs": [],
   "source": [
    "# save data as HDF5 file (note: this is done via to_netcdf with the HDF5 engine\n",
    "ds_all.to_netcdf(\"combined_data.h5\", engine=\"h5netcdf\")\n"
   ]
  },
  {
   "cell_type": "code",
   "execution_count": null,
   "id": "04e5c705-ae60-406a-8012-61e09b351283",
   "metadata": {},
   "outputs": [],
   "source": []
  }
 ],
 "metadata": {
  "kernelspec": {
   "display_name": "python-311-esdp",
   "language": "python",
   "name": "python-311-esdp"
  },
  "language_info": {
   "codemirror_mode": {
    "name": "ipython",
    "version": 3
   },
   "file_extension": ".py",
   "mimetype": "text/x-python",
   "name": "python",
   "nbconvert_exporter": "python",
   "pygments_lexer": "ipython3",
   "version": "3.11.9"
  }
 },
 "nbformat": 4,
 "nbformat_minor": 5
}
