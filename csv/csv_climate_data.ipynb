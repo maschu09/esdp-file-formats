{
 "cells": [
  {
   "cell_type": "markdown",
   "id": "c50d5351-6f07-4207-8c3e-69725bf28096",
   "metadata": {},
   "source": [
    "# CSV example\n",
    "\n",
    "Obtain data from [https://www.ncei.noaa.gov/cdo-web/](https://www.ncei.noaa.gov/cdo-web/), for example the [daily summaries of the year 1949](https://www.ncei.noaa.gov/pub/data/ghcn/daily/by_year/1949.csv.gz).\n",
    "Note that this is a gzipped file. Pandas can deal with it.\n",
    "\n",
    "The data file has 94 MBytes, it may be too large to import into Excel (or Excel may cut some lines)."
   ]
  },
  {
   "cell_type": "code",
   "execution_count": 2,
   "id": "6329961a-f89b-4d96-b3ba-f1f50d43a6c6",
   "metadata": {
    "tags": []
   },
   "outputs": [],
   "source": [
    "import pandas as pd\n",
    "import requests"
   ]
  },
  {
   "cell_type": "code",
   "execution_count": 5,
   "id": "57935fe8-ee04-4bb5-bb33-a85d59d7d47d",
   "metadata": {
    "tags": []
   },
   "outputs": [
    {
     "name": "stdout",
     "output_type": "stream",
     "text": [
      "data downloaded. Will be saved as 1949.csv.gz\n"
     ]
    }
   ],
   "source": [
    "# download the file\n",
    "url = \"https://www.ncei.noaa.gov/pub/data/ghcn/daily/by_year/1949.csv.gz\"\n",
    "response = requests.get(url)\n",
    "if response.ok:\n",
    "    filename = url.rsplit('/', 1)[1]\n",
    "    print(f\"data downloaded. Will be saved as {filename}\")\n",
    "    with open(filename, \"wb\") as f:\n",
    "        f.write(response.content)\n",
    "else:\n",
    "    print(\"An error occured while trying to retrieve the data from the internet.\")"
   ]
  },
  {
   "cell_type": "code",
   "execution_count": 3,
   "id": "05f72d57-45ae-4e31-ac07-af603c0665a7",
   "metadata": {},
   "outputs": [
    {
     "ename": "InvalidSchema",
     "evalue": "No connection adapters were found for 'ftp://ftp.ncei.noaa.gov/pub/data/ghcn/daily/by_year/1949.csv.gz'",
     "output_type": "error",
     "traceback": [
      "\u001b[0;31m---------------------------------------------------------------------------\u001b[0m",
      "\u001b[0;31mInvalidSchema\u001b[0m                             Traceback (most recent call last)",
      "Cell \u001b[0;32mIn[3], line 3\u001b[0m\n\u001b[1;32m      1\u001b[0m \u001b[38;5;66;03m# download the file\u001b[39;00m\n\u001b[1;32m      2\u001b[0m url \u001b[38;5;241m=\u001b[39m \u001b[38;5;124m\"\u001b[39m\u001b[38;5;124mftp://ftp.ncei.noaa.gov/pub/data/ghcn/daily/by_year/1949.csv.gz\u001b[39m\u001b[38;5;124m\"\u001b[39m\n\u001b[0;32m----> 3\u001b[0m response \u001b[38;5;241m=\u001b[39m \u001b[43mrequests\u001b[49m\u001b[38;5;241;43m.\u001b[39;49m\u001b[43mget\u001b[49m\u001b[43m(\u001b[49m\u001b[43murl\u001b[49m\u001b[43m)\u001b[49m\n\u001b[1;32m      4\u001b[0m \u001b[38;5;28;01mif\u001b[39;00m response\u001b[38;5;241m.\u001b[39mok:\n\u001b[1;32m      5\u001b[0m     filename \u001b[38;5;241m=\u001b[39m url\u001b[38;5;241m.\u001b[39mrsplit(\u001b[38;5;124m'\u001b[39m\u001b[38;5;124m/\u001b[39m\u001b[38;5;124m'\u001b[39m, \u001b[38;5;241m1\u001b[39m)[\u001b[38;5;241m1\u001b[39m]\n",
      "File \u001b[0;32m/opt/tljh/user/envs/py311_esdp/lib/python3.11/site-packages/requests/api.py:73\u001b[0m, in \u001b[0;36mget\u001b[0;34m(url, params, **kwargs)\u001b[0m\n\u001b[1;32m     62\u001b[0m \u001b[38;5;28;01mdef\u001b[39;00m \u001b[38;5;21mget\u001b[39m(url, params\u001b[38;5;241m=\u001b[39m\u001b[38;5;28;01mNone\u001b[39;00m, \u001b[38;5;241m*\u001b[39m\u001b[38;5;241m*\u001b[39mkwargs):\n\u001b[1;32m     63\u001b[0m \u001b[38;5;250m    \u001b[39m\u001b[38;5;124mr\u001b[39m\u001b[38;5;124;03m\"\"\"Sends a GET request.\u001b[39;00m\n\u001b[1;32m     64\u001b[0m \n\u001b[1;32m     65\u001b[0m \u001b[38;5;124;03m    :param url: URL for the new :class:`Request` object.\u001b[39;00m\n\u001b[0;32m   (...)\u001b[0m\n\u001b[1;32m     70\u001b[0m \u001b[38;5;124;03m    :rtype: requests.Response\u001b[39;00m\n\u001b[1;32m     71\u001b[0m \u001b[38;5;124;03m    \"\"\"\u001b[39;00m\n\u001b[0;32m---> 73\u001b[0m     \u001b[38;5;28;01mreturn\u001b[39;00m \u001b[43mrequest\u001b[49m\u001b[43m(\u001b[49m\u001b[38;5;124;43m\"\u001b[39;49m\u001b[38;5;124;43mget\u001b[39;49m\u001b[38;5;124;43m\"\u001b[39;49m\u001b[43m,\u001b[49m\u001b[43m \u001b[49m\u001b[43murl\u001b[49m\u001b[43m,\u001b[49m\u001b[43m \u001b[49m\u001b[43mparams\u001b[49m\u001b[38;5;241;43m=\u001b[39;49m\u001b[43mparams\u001b[49m\u001b[43m,\u001b[49m\u001b[43m \u001b[49m\u001b[38;5;241;43m*\u001b[39;49m\u001b[38;5;241;43m*\u001b[39;49m\u001b[43mkwargs\u001b[49m\u001b[43m)\u001b[49m\n",
      "File \u001b[0;32m/opt/tljh/user/envs/py311_esdp/lib/python3.11/site-packages/requests/api.py:59\u001b[0m, in \u001b[0;36mrequest\u001b[0;34m(method, url, **kwargs)\u001b[0m\n\u001b[1;32m     55\u001b[0m \u001b[38;5;66;03m# By using the 'with' statement we are sure the session is closed, thus we\u001b[39;00m\n\u001b[1;32m     56\u001b[0m \u001b[38;5;66;03m# avoid leaving sockets open which can trigger a ResourceWarning in some\u001b[39;00m\n\u001b[1;32m     57\u001b[0m \u001b[38;5;66;03m# cases, and look like a memory leak in others.\u001b[39;00m\n\u001b[1;32m     58\u001b[0m \u001b[38;5;28;01mwith\u001b[39;00m sessions\u001b[38;5;241m.\u001b[39mSession() \u001b[38;5;28;01mas\u001b[39;00m session:\n\u001b[0;32m---> 59\u001b[0m     \u001b[38;5;28;01mreturn\u001b[39;00m \u001b[43msession\u001b[49m\u001b[38;5;241;43m.\u001b[39;49m\u001b[43mrequest\u001b[49m\u001b[43m(\u001b[49m\u001b[43mmethod\u001b[49m\u001b[38;5;241;43m=\u001b[39;49m\u001b[43mmethod\u001b[49m\u001b[43m,\u001b[49m\u001b[43m \u001b[49m\u001b[43murl\u001b[49m\u001b[38;5;241;43m=\u001b[39;49m\u001b[43murl\u001b[49m\u001b[43m,\u001b[49m\u001b[43m \u001b[49m\u001b[38;5;241;43m*\u001b[39;49m\u001b[38;5;241;43m*\u001b[39;49m\u001b[43mkwargs\u001b[49m\u001b[43m)\u001b[49m\n",
      "File \u001b[0;32m/opt/tljh/user/envs/py311_esdp/lib/python3.11/site-packages/requests/sessions.py:589\u001b[0m, in \u001b[0;36mSession.request\u001b[0;34m(self, method, url, params, data, headers, cookies, files, auth, timeout, allow_redirects, proxies, hooks, stream, verify, cert, json)\u001b[0m\n\u001b[1;32m    584\u001b[0m send_kwargs \u001b[38;5;241m=\u001b[39m {\n\u001b[1;32m    585\u001b[0m     \u001b[38;5;124m\"\u001b[39m\u001b[38;5;124mtimeout\u001b[39m\u001b[38;5;124m\"\u001b[39m: timeout,\n\u001b[1;32m    586\u001b[0m     \u001b[38;5;124m\"\u001b[39m\u001b[38;5;124mallow_redirects\u001b[39m\u001b[38;5;124m\"\u001b[39m: allow_redirects,\n\u001b[1;32m    587\u001b[0m }\n\u001b[1;32m    588\u001b[0m send_kwargs\u001b[38;5;241m.\u001b[39mupdate(settings)\n\u001b[0;32m--> 589\u001b[0m resp \u001b[38;5;241m=\u001b[39m \u001b[38;5;28;43mself\u001b[39;49m\u001b[38;5;241;43m.\u001b[39;49m\u001b[43msend\u001b[49m\u001b[43m(\u001b[49m\u001b[43mprep\u001b[49m\u001b[43m,\u001b[49m\u001b[43m \u001b[49m\u001b[38;5;241;43m*\u001b[39;49m\u001b[38;5;241;43m*\u001b[39;49m\u001b[43msend_kwargs\u001b[49m\u001b[43m)\u001b[49m\n\u001b[1;32m    591\u001b[0m \u001b[38;5;28;01mreturn\u001b[39;00m resp\n",
      "File \u001b[0;32m/opt/tljh/user/envs/py311_esdp/lib/python3.11/site-packages/requests/sessions.py:697\u001b[0m, in \u001b[0;36mSession.send\u001b[0;34m(self, request, **kwargs)\u001b[0m\n\u001b[1;32m    694\u001b[0m hooks \u001b[38;5;241m=\u001b[39m request\u001b[38;5;241m.\u001b[39mhooks\n\u001b[1;32m    696\u001b[0m \u001b[38;5;66;03m# Get the appropriate adapter to use\u001b[39;00m\n\u001b[0;32m--> 697\u001b[0m adapter \u001b[38;5;241m=\u001b[39m \u001b[38;5;28;43mself\u001b[39;49m\u001b[38;5;241;43m.\u001b[39;49m\u001b[43mget_adapter\u001b[49m\u001b[43m(\u001b[49m\u001b[43murl\u001b[49m\u001b[38;5;241;43m=\u001b[39;49m\u001b[43mrequest\u001b[49m\u001b[38;5;241;43m.\u001b[39;49m\u001b[43murl\u001b[49m\u001b[43m)\u001b[49m\n\u001b[1;32m    699\u001b[0m \u001b[38;5;66;03m# Start time (approximately) of the request\u001b[39;00m\n\u001b[1;32m    700\u001b[0m start \u001b[38;5;241m=\u001b[39m preferred_clock()\n",
      "File \u001b[0;32m/opt/tljh/user/envs/py311_esdp/lib/python3.11/site-packages/requests/sessions.py:794\u001b[0m, in \u001b[0;36mSession.get_adapter\u001b[0;34m(self, url)\u001b[0m\n\u001b[1;32m    791\u001b[0m         \u001b[38;5;28;01mreturn\u001b[39;00m adapter\n\u001b[1;32m    793\u001b[0m \u001b[38;5;66;03m# Nothing matches :-/\u001b[39;00m\n\u001b[0;32m--> 794\u001b[0m \u001b[38;5;28;01mraise\u001b[39;00m InvalidSchema(\u001b[38;5;124mf\u001b[39m\u001b[38;5;124m\"\u001b[39m\u001b[38;5;124mNo connection adapters were found for \u001b[39m\u001b[38;5;132;01m{\u001b[39;00murl\u001b[38;5;132;01m!r}\u001b[39;00m\u001b[38;5;124m\"\u001b[39m)\n",
      "\u001b[0;31mInvalidSchema\u001b[0m: No connection adapters were found for 'ftp://ftp.ncei.noaa.gov/pub/data/ghcn/daily/by_year/1949.csv.gz'"
     ]
    }
   ],
   "source": [
    "# download the file\n",
    "url = \"ftp://ftp.ncei.noaa.gov/pub/data/ghcn/daily/by_year/1949.csv.gz\"\n",
    "response = requests.get(url)\n",
    "if response.ok:\n",
    "    filename = url.rsplit('/', 1)[1]\n",
    "    print(f\"data downloaded. Will be saved as {filename}\")\n",
    "    with open(filename, \"wb\") as f:\n",
    "        f.write(response.content)\n",
    "else:\n",
    "    print(\"An error occured while trying to retrieve the data from the internet.\")"
   ]
  },
  {
   "cell_type": "code",
   "execution_count": null,
   "id": "a962d202-e14e-46ff-89a8-6c55d4a5c718",
   "metadata": {},
   "outputs": [],
   "source": []
  },
  {
   "cell_type": "code",
   "execution_count": 7,
   "id": "b93c6989-5847-44aa-aa20-40a00ed79a8f",
   "metadata": {
    "tags": []
   },
   "outputs": [
    {
     "name": "stdout",
     "output_type": "stream",
     "text": [
      "          stationcode  datelabel param  value mflag qflag sflag  time\n",
      "0         ACW00011604   19490101  TMAX    289   NaN   NaN     X   NaN\n",
      "1         ACW00011604   19490101  TMIN    217   NaN   NaN     X   NaN\n",
      "2         ACW00011604   19490101  PRCP      0   NaN   NaN     X   NaN\n",
      "3         ACW00011604   19490101  SNOW      0   NaN   NaN     X   NaN\n",
      "4         ACW00011604   19490101  SNWD      0   NaN   NaN     X   NaN\n",
      "...               ...        ...   ...    ...   ...   ...   ...   ...\n",
      "23787114  WZ004094600   19491231  PRCP      0   NaN   NaN     I   NaN\n",
      "23787115  WZ004451000   19491231  PRCP      0   NaN   NaN     I   NaN\n",
      "23787116  WZ004467410   19491231  PRCP    142   NaN   NaN     I   NaN\n",
      "23787117  WZ004822290   19491231  PRCP      0   NaN   NaN     I   NaN\n",
      "23787118  WZ004834260   19491231  PRCP    178   NaN   NaN     I   NaN\n",
      "\n",
      "[23787119 rows x 8 columns]\n"
     ]
    }
   ],
   "source": [
    "# read data into pandas\n",
    "columns = [\"stationcode\", \"datelabel\", \"param\", \"value\", \"mflag\", \"qflag\", \"sflag\", \"time\"]\n",
    "df = pd.read_csv(filename, names=columns, compression=\"gzip\")\n",
    "print(df)"
   ]
  },
  {
   "cell_type": "code",
   "execution_count": 8,
   "id": "55b48473-185e-464f-b0f8-426965f93b4e",
   "metadata": {},
   "outputs": [
    {
     "name": "stdout",
     "output_type": "stream",
     "text": [
      "<pandas.core.groupby.generic.DataFrameGroupBy object at 0x7f05801922d0>\n"
     ]
    }
   ],
   "source": [
    "dfg = df.groupby([\"stationcode\", \"param\"])\n",
    "print(dfg)"
   ]
  },
  {
   "cell_type": "code",
   "execution_count": 9,
   "id": "5e800881-f4f6-4148-b4b0-fa295dccd769",
   "metadata": {},
   "outputs": [
    {
     "data": {
      "text/plain": [
       "<pandas.core.groupby.generic.DataFrameGroupBy object at 0x7f05801922d0>"
      ]
     },
     "execution_count": 9,
     "metadata": {},
     "output_type": "execute_result"
    }
   ],
   "source": [
    "dfg"
   ]
  },
  {
   "cell_type": "code",
   "execution_count": 15,
   "id": "b8ba5843-95e1-432a-948f-a4f0a01f5f41",
   "metadata": {},
   "outputs": [
    {
     "name": "stdout",
     "output_type": "stream",
     "text": [
      "stationcode  param\n",
      "ACW00011604  PGTM     868.000000\n",
      "             PRCP      19.240000\n",
      "             SNOW       0.000000\n",
      "             SNWD       0.000000\n",
      "             TMAX     285.250000\n",
      "                         ...    \n",
      "WZ004094600  PRCP      20.334247\n",
      "WZ004451000  PRCP      27.797260\n",
      "WZ004467410  PRCP      20.386301\n",
      "WZ004822290  PRCP      36.613699\n",
      "WZ004834260  PRCP      22.980822\n",
      "Name: value, Length: 120876, dtype: float64\n"
     ]
    }
   ],
   "source": [
    "print(dfg[\"value\"].mean())"
   ]
  },
  {
   "cell_type": "code",
   "execution_count": null,
   "id": "3f4553ff-6094-453b-83fa-b8fed49f2e02",
   "metadata": {},
   "outputs": [],
   "source": []
  }
 ],
 "metadata": {
  "kernelspec": {
   "display_name": "python-311-esdp",
   "language": "python",
   "name": "python-311-esdp"
  },
  "language_info": {
   "codemirror_mode": {
    "name": "ipython",
    "version": 3
   },
   "file_extension": ".py",
   "mimetype": "text/x-python",
   "name": "python",
   "nbconvert_exporter": "python",
   "pygments_lexer": "ipython3",
   "version": "3.11.9"
  }
 },
 "nbformat": 4,
 "nbformat_minor": 5
}
