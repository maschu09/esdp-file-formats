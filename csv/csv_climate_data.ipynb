{
 "cells": [
  {
   "cell_type": "markdown",
   "id": "c50d5351-6f07-4207-8c3e-69725bf28096",
   "metadata": {},
   "source": [
    "# CSV example\n",
    "\n",
    "Obtain data from [https://www.ncei.noaa.gov/cdo-web/](https://www.ncei.noaa.gov/cdo-web/), for example the [daily summaries of the year 1949](https://www.ncei.noaa.gov/pub/data/ghcn/daily/by_year/1949.csv.gz).\n",
    "Note that this is a gzipped file. Pandas can deal with it.\n",
    "\n",
    "The data file has 94 MBytes, it may be too large to import into Excel (or Excel may cut some lines)."
   ]
  },
  {
   "cell_type": "code",
   "execution_count": 2,
   "id": "6329961a-f89b-4d96-b3ba-f1f50d43a6c6",
   "metadata": {
    "tags": []
   },
   "outputs": [],
   "source": [
    "import pandas as pd\n",
    "import requests"
   ]
  },
  {
   "cell_type": "code",
   "execution_count": 3,
   "id": "57935fe8-ee04-4bb5-bb33-a85d59d7d47d",
   "metadata": {
    "tags": []
   },
   "outputs": [
    {
     "name": "stdout",
     "output_type": "stream",
     "text": [
      "data downloaded. Will be saved as 1949.csv.gz\n"
     ]
    }
   ],
   "source": [
    "# download the file\n",
    "url = \"https://www.ncei.noaa.gov/pub/data/ghcn/daily/by_year/1949.csv.gz\"\n",
    "response = requests.get(url)\n",
    "if response.ok:\n",
    "    filename = url.rsplit('/', 1)[1]\n",
    "    print(f\"data downloaded. Will be saved as {filename}\")\n",
    "    with open(filename, \"wb\") as f:\n",
    "        f.write(response.content)\n",
    "else:\n",
    "    print(\"An error occured while trying to retrieve the data from the internet.\")"
   ]
  },
  {
   "cell_type": "code",
   "execution_count": 4,
   "id": "b93c6989-5847-44aa-aa20-40a00ed79a8f",
   "metadata": {
    "tags": []
   },
   "outputs": [
    {
     "name": "stdout",
     "output_type": "stream",
     "text": [
      "          ACW00011604  19490101  TMAX  289 Unnamed: 4 Unnamed: 5  X  \\\n",
      "0         ACW00011604  19490101  TMIN  217        NaN        NaN  X   \n",
      "1         ACW00011604  19490101  PRCP    0        NaN        NaN  X   \n",
      "2         ACW00011604  19490101  SNOW    0        NaN        NaN  X   \n",
      "3         ACW00011604  19490101  SNWD    0        NaN        NaN  X   \n",
      "4         AG000060390  19490101  TMAX  166        NaN        NaN  G   \n",
      "...               ...       ...   ...  ...        ...        ... ..   \n",
      "23787113  WZ004094600  19491231  PRCP    0        NaN        NaN  I   \n",
      "23787114  WZ004451000  19491231  PRCP    0        NaN        NaN  I   \n",
      "23787115  WZ004467410  19491231  PRCP  142        NaN        NaN  I   \n",
      "23787116  WZ004822290  19491231  PRCP    0        NaN        NaN  I   \n",
      "23787117  WZ004834260  19491231  PRCP  178        NaN        NaN  I   \n",
      "\n",
      "          Unnamed: 7  \n",
      "0                NaN  \n",
      "1                NaN  \n",
      "2                NaN  \n",
      "3                NaN  \n",
      "4                NaN  \n",
      "...              ...  \n",
      "23787113         NaN  \n",
      "23787114         NaN  \n",
      "23787115         NaN  \n",
      "23787116         NaN  \n",
      "23787117         NaN  \n",
      "\n",
      "[23787118 rows x 8 columns]\n"
     ]
    }
   ],
   "source": [
    "# read data into pandas\n",
    "df = pd.read_csv(filename, compression=\"gzip\")\n",
    "print(df)"
   ]
  },
  {
   "cell_type": "code",
   "execution_count": null,
   "id": "05f72d57-45ae-4e31-ac07-af603c0665a7",
   "metadata": {},
   "outputs": [],
   "source": []
  }
 ],
 "metadata": {
  "kernelspec": {
   "display_name": "PyEarthSystem-2023.5",
   "language": "python",
   "name": "pyearthsystem"
  },
  "language_info": {
   "codemirror_mode": {
    "name": "ipython",
    "version": 3
   },
   "file_extension": ".py",
   "mimetype": "text/x-python",
   "name": "python",
   "nbconvert_exporter": "python",
   "pygments_lexer": "ipython3",
   "version": "3.10.4"
  }
 },
 "nbformat": 4,
 "nbformat_minor": 5
}
