{
 "cells": [
  {
   "cell_type": "markdown",
   "id": "c8c3411a-7e0b-42d6-8a9f-8aa7ed716aff",
   "metadata": {},
   "source": [
    "# Plain binary files\n",
    "\n",
    "This file type requires the user to know the file content and data types beforehand. Numerical values and text are dumped into the file \"as the computer sees them\". This can lead to incompatibilities, because some (older) computers store data types with more than 1 byte \"big endian\" (most significant bits first), while modern computers use \"little endian\" (least significant bits first).\n"
   ]
  },
  {
   "cell_type": "code",
   "execution_count": 1,
   "id": "b6705043-2a9d-4436-8eaa-640299d63215",
   "metadata": {
    "tags": []
   },
   "outputs": [],
   "source": [
    "import numpy as np"
   ]
  },
  {
   "cell_type": "code",
   "execution_count": 2,
   "id": "2ad42b88-0386-4ef1-8a67-851cf515630c",
   "metadata": {},
   "outputs": [
    {
     "name": "stdout",
     "output_type": "stream",
     "text": [
      "[[ 1.00000e+00  0.00000e+00  5.50000e+00  3.00000e+00]\n",
      " [-1.00000e+00  3.14159e+00  3.27670e+04  6.55350e+04]\n",
      " [ 1.00000e-04  1.00000e-03  1.00000e-02  1.00000e-01]]\n"
     ]
    }
   ],
   "source": [
    "# create a 3x4 array\n",
    "a = np.array( [[1.0, 0.0, 5.5, 3.0],\n",
    "               [-1.0, 3.14159, 32767, 65535],\n",
    "               [0.0001, 0.001, 0.01, 0.1]])\n",
    "print(a)"
   ]
  },
  {
   "cell_type": "code",
   "execution_count": 3,
   "id": "1ae23606-6a16-4739-a75b-daf0b6de24f5",
   "metadata": {
    "tags": []
   },
   "outputs": [],
   "source": [
    "def write_array(file, a, format='float'):\n",
    "        \"\"\"\n",
    "        Write a NumPy array into a plain Python binary file.\n",
    "\n",
    "        Parameters:\n",
    "            file: str or file-like object\n",
    "                The filename, fully qualified path, or a file-like object to write the array.\n",
    "            a: numpy.ndarray\n",
    "                The NumPy array to be written.\n",
    "            format: str, optional\n",
    "                The dtype format to read the data from the file. Default is 'float'='f8'.\n",
    "                Numpy dtypes (e.g. f4, f8, i1, i2, i4, i8, u2, U) or Python standard types (int, float, str) can be used.\n",
    "\n",
    "        Returns:\n",
    "            None\n",
    "        \"\"\"\n",
    "        with open(file, 'wb') as f:\n",
    "            a_bytes = a.astype(format).tobytes()\n",
    "            f.write(a_bytes)\n",
    "\n",
    "            \n",
    "def read_array(file, shape, format='float'):\n",
    "    \"\"\"\n",
    "    Read a NumPy array from a plain Python binary file.\n",
    "\n",
    "    Parameters:\n",
    "        file: str or file-like object\n",
    "            The filename, fully qualified path, or a file-like object to read the array.\n",
    "        shape: tuple\n",
    "            The shape of the NumPy array to be read.\n",
    "        format: str, optional\n",
    "            The dtype format to read the data from the file. Default is 'float32'.\n",
    "\n",
    "    Returns:\n",
    "        numpy.ndarray\n",
    "            The NumPy array read from the file.\n",
    "    \"\"\"\n",
    "    with open(file, 'rb') as f:\n",
    "        a_bytes = f.read()\n",
    "        a = np.frombuffer(a_bytes, dtype=format)\n",
    "        return a.reshape(shape)\n",
    "\n",
    "def bytes_from_file(file):\n",
    "    \"\"\"\n",
    "    Open a binary file and read the byte buffer\n",
    "    \"\"\"\n",
    "    with open(file, 'rb') as f:\n",
    "        a_bytes = f.read()\n",
    "    return a_bytes\n"
   ]
  },
  {
   "cell_type": "code",
   "execution_count": 4,
   "id": "961e3af5-058c-4384-9fd3-ff518bbd0ebb",
   "metadata": {
    "tags": []
   },
   "outputs": [
    {
     "name": "stdout",
     "output_type": "stream",
     "text": [
      "float: 000000000000f03f000000000000000000000000000016400000000000000840000000000000f0bf6e861bf0f921094000000000c0ffdf4000000000e0ffef402d431cebe2361a3ffca9f1d24d62503f7b14ae47e17a843f9a9999999999b93f\n"
     ]
    }
   ],
   "source": [
    "format=\"float\"\n",
    "filename=f\"test_{format}.dat\"\n",
    "write_array(filename, a, format=format)\n",
    "print(f\"{format}: {bytes_from_file(filename).hex()}\")"
   ]
  },
  {
   "cell_type": "code",
   "execution_count": null,
   "id": "51eb2c3b-e9e3-409a-b437-f91509f0d42a",
   "metadata": {
    "tags": []
   },
   "outputs": [],
   "source": [
    "format=\"f4\"\n",
    "filename=f\"test_{format}.dat\"\n",
    "write_array(filename, a, format=format)\n",
    "print(f\"{format}: {bytes_from_file(filename).hex()}\")"
   ]
  },
  {
   "cell_type": "code",
   "execution_count": null,
   "id": "700221f7-14dd-44c6-bb9a-b95f0b247dd2",
   "metadata": {
    "tags": []
   },
   "outputs": [],
   "source": [
    "format=\"i2\"\n",
    "filename=f\"test_{format}.dat\"\n",
    "write_array(filename, a, format=format)\n",
    "print(f\"{format}: {bytes_from_file(filename).hex()}\")"
   ]
  },
  {
   "cell_type": "code",
   "execution_count": null,
   "id": "a862853a-0b7f-4b47-9322-8cd863ab8e08",
   "metadata": {
    "tags": []
   },
   "outputs": [],
   "source": [
    "format=\"u2\"\n",
    "filename=f\"test_{format}.dat\"\n",
    "write_array(filename, a, format=format)\n",
    "print(f\"{format}: {bytes_from_file(filename).hex()}\")"
   ]
  },
  {
   "cell_type": "code",
   "execution_count": null,
   "id": "10426326-6ec9-4fd1-a640-252884cf7e9d",
   "metadata": {
    "tags": []
   },
   "outputs": [],
   "source": [
    "format=\"str\"\n",
    "filename=f\"test_{format}.dat\"\n",
    "write_array(filename, a, format=format)\n",
    "print(f\"{format}: {bytes_from_file(filename).hex()}\")"
   ]
  },
  {
   "cell_type": "code",
   "execution_count": null,
   "id": "6e80d632-8043-4971-847a-1fef487dcea9",
   "metadata": {
    "tags": []
   },
   "outputs": [],
   "source": [
    "afloat = read_array(\"test_float.dat\", (4,3), format='float')\n",
    "print(afloat)"
   ]
  },
  {
   "cell_type": "code",
   "execution_count": null,
   "id": "32624a51-943c-4899-aa86-28d4b47bcf4a",
   "metadata": {
    "tags": []
   },
   "outputs": [],
   "source": [
    "aint16 = read_array(\"test_i2.dat\", (4,3), format='i2')\n",
    "print(aint16)"
   ]
  },
  {
   "cell_type": "code",
   "execution_count": 5,
   "id": "0f73a5b8-47a9-4e3a-b999-386fc27d42ff",
   "metadata": {
    "tags": []
   },
   "outputs": [
    {
     "ename": "ValueError",
     "evalue": "cannot reshape array of size 24 into shape (4,3)",
     "output_type": "error",
     "traceback": [
      "\u001b[0;31m---------------------------------------------------------------------------\u001b[0m",
      "\u001b[0;31mValueError\u001b[0m                                Traceback (most recent call last)",
      "Cell \u001b[0;32mIn[5], line 2\u001b[0m\n\u001b[1;32m      1\u001b[0m \u001b[38;5;66;03m# now read the float file, but mistakingly assume it would be f4\u001b[39;00m\n\u001b[0;32m----> 2\u001b[0m afloat32 \u001b[38;5;241m=\u001b[39m \u001b[43mread_array\u001b[49m\u001b[43m(\u001b[49m\u001b[38;5;124;43m\"\u001b[39;49m\u001b[38;5;124;43mtest_float.dat\u001b[39;49m\u001b[38;5;124;43m\"\u001b[39;49m\u001b[43m,\u001b[49m\u001b[43m \u001b[49m\u001b[43m(\u001b[49m\u001b[38;5;241;43m4\u001b[39;49m\u001b[43m,\u001b[49m\u001b[38;5;241;43m3\u001b[39;49m\u001b[43m)\u001b[49m\u001b[43m,\u001b[49m\u001b[43m \u001b[49m\u001b[38;5;28;43mformat\u001b[39;49m\u001b[38;5;241;43m=\u001b[39;49m\u001b[38;5;124;43m'\u001b[39;49m\u001b[38;5;124;43mf4\u001b[39;49m\u001b[38;5;124;43m'\u001b[39;49m\u001b[43m)\u001b[49m\n\u001b[1;32m      3\u001b[0m \u001b[38;5;28mprint\u001b[39m(afloat32)\n",
      "Cell \u001b[0;32mIn[3], line 41\u001b[0m, in \u001b[0;36mread_array\u001b[0;34m(file, shape, format)\u001b[0m\n\u001b[1;32m     39\u001b[0m a_bytes \u001b[38;5;241m=\u001b[39m f\u001b[38;5;241m.\u001b[39mread()\n\u001b[1;32m     40\u001b[0m a \u001b[38;5;241m=\u001b[39m np\u001b[38;5;241m.\u001b[39mfrombuffer(a_bytes, dtype\u001b[38;5;241m=\u001b[39m\u001b[38;5;28mformat\u001b[39m)\n\u001b[0;32m---> 41\u001b[0m \u001b[38;5;28;01mreturn\u001b[39;00m \u001b[43ma\u001b[49m\u001b[38;5;241;43m.\u001b[39;49m\u001b[43mreshape\u001b[49m\u001b[43m(\u001b[49m\u001b[43mshape\u001b[49m\u001b[43m)\u001b[49m\n",
      "\u001b[0;31mValueError\u001b[0m: cannot reshape array of size 24 into shape (4,3)"
     ]
    }
   ],
   "source": [
    "# now read the float file, but mistakingly assume it would be f4\n",
    "afloat32 = read_array(\"test_float.dat\", (4,3), format='f4')\n",
    "print(afloat32)"
   ]
  },
  {
   "cell_type": "code",
   "execution_count": 6,
   "id": "b9e63626-3e2e-4fee-82b0-a87ba30f98e4",
   "metadata": {},
   "outputs": [
    {
     "name": "stdout",
     "output_type": "stream",
     "text": [
      "[[ 0.0000000e+00  1.8750000e+00  0.0000000e+00]\n",
      " [ 0.0000000e+00  0.0000000e+00  2.3437500e+00]\n",
      " [ 0.0000000e+00  2.1250000e+00  0.0000000e+00]\n",
      " [-1.8750000e+00 -1.9253077e+29  2.1426985e+00]\n",
      " [ 0.0000000e+00  6.9999695e+00  0.0000000e+00]\n",
      " [ 7.4999847e+00 -1.8890966e+26  6.0239995e-01]\n",
      " [-5.1896949e+11  8.1399995e-01  8.9128961e+04]\n",
      " [ 1.0350000e+00 -1.5881868e-23  1.4499999e+00]]\n"
     ]
    }
   ],
   "source": [
    "# fake it to be an 8x3 array and see what kind of values we get.\n",
    "afloat32 = read_array(\"test_float.dat\", (8,3), format='f4')\n",
    "print(afloat32)"
   ]
  },
  {
   "cell_type": "code",
   "execution_count": null,
   "id": "a733d3b6-9d70-42f2-8a73-86470744a5a0",
   "metadata": {},
   "outputs": [],
   "source": []
  }
 ],
 "metadata": {
  "kernelspec": {
   "display_name": "Python 3 (ipykernel)",
   "language": "python",
   "name": "python3"
  },
  "language_info": {
   "codemirror_mode": {
    "name": "ipython",
    "version": 3
   },
   "file_extension": ".py",
   "mimetype": "text/x-python",
   "name": "python",
   "nbconvert_exporter": "python",
   "pygments_lexer": "ipython3",
   "version": "3.10.10"
  }
 },
 "nbformat": 4,
 "nbformat_minor": 5
}
